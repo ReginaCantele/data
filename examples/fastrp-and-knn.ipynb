{
  "cells": [
    {
      "cell_type": "markdown",
      "id": "5cb64c55",
      "metadata": {
        "id": "5cb64c55"
      },
      "source": [
        "# Product recommendations with kNN based on FastRP embeddings"
      ]
    },
    {
      "cell_type": "markdown",
      "id": "ff8330bd",
      "metadata": {
        "id": "ff8330bd"
      },
      "source": [
        "<a target=\"_blank\" href=\"https://colab.research.google.com/github/neo4j/graph-data-science-client/blob/main/examples/fastrp-and-knn.ipynb\">\n",
        "  <img src=\"https://colab.research.google.com/assets/colab-badge.svg\" alt=\"Open In Colab\"/>\n",
        "</a>"
      ]
    },
    {
      "cell_type": "markdown",
      "id": "a759796d",
      "metadata": {
        "id": "a759796d"
      },
      "source": [
        "This Jupyter notebook is hosted [here](https://github.com/neo4j/graph-data-science-client/blob/main/examples/fastrp-and-knn.ipynb) in the Neo4j Graph Data Science Client Github repository.\n",
        "\n",
        "The notebook exemplifies how to use the `graphdatascience` Python library to operate Neo4j GDS.\n",
        "It shows an adapted version of the FastRP and kNN end-to-end example from the GDS Manual, found [here](https://neo4j.com/docs/graph-data-science/current/end-to-end-examples/fastrp-knn-example).\n",
        "\n",
        "We consider a graph of products and customers, and we want to find new products to recommend for each customer. We want to use [the K-Nearest Neighbors algorithm (kNN)](https://neo4j.com/docs/graph-data-science/current/algorithms/knn/) to identify similar customers and base our product recommendations on that. In order to be able to leverage topological information about the graph in kNN, we will first create node embeddings using [FastRP](https://neo4j.com/docs/graph-data-science/current/machine-learning/node-embeddings/fastrp/). These embeddings will be the input to the kNN algorithm.\n",
        "\n",
        "We will then use a Cypher query to generate recommendations for each pair of similar customers, where products that have been purchased by one of the customers will be recommended to the other."
      ]
    },
    {
      "cell_type": "markdown",
      "id": "c4596ec8",
      "metadata": {
        "id": "c4596ec8"
      },
      "source": [
        "## Prerequisites\n",
        "\n",
        "Running this notebook requires a Neo4j server with a recent version (2.0+) of GDS installed.\n",
        "We recommend using Neo4j Desktop with GDS, or AuraDS.\n",
        "\n",
        "The `graphdatascience` Python library needs to be installed as well. See the examples in the Setup section below and in the [client installation instructions](https://neo4j.com/docs/graph-data-science-client/current/installation/)."
      ]
    },
    {
      "cell_type": "markdown",
      "id": "39328998",
      "metadata": {
        "id": "39328998"
      },
      "source": [
        "## Setup\n",
        "\n",
        "We start by installing and importing our dependencies, and setting up our GDS client connection to the database.\n",
        "\n",
        "TIP: Alternatively, you can use [Aura Graph Analytics Serverless](https://neo4j.com/docs/graph-data-science-client/current/graph-analytics-serverless/) and skip the whole Setup section below."
      ]
    },
    {
      "cell_type": "code",
      "execution_count": 6,
      "id": "8fde45a7",
      "metadata": {
        "id": "8fde45a7",
        "outputId": "cec34f59-cd0f-4cc3-e276-7b23d24431ac",
        "colab": {
          "base_uri": "https://localhost:8080/"
        }
      },
      "outputs": [
        {
          "output_type": "stream",
          "name": "stdout",
          "text": [
            "Requirement already satisfied: graphdatascience in /usr/local/lib/python3.11/dist-packages (1.15)\n",
            "Requirement already satisfied: multimethod<3.0,>=1.0 in /usr/local/lib/python3.11/dist-packages (from graphdatascience) (2.0)\n",
            "Requirement already satisfied: neo4j<6.0,>=4.4.12 in /usr/local/lib/python3.11/dist-packages (from graphdatascience) (5.28.1)\n",
            "Requirement already satisfied: numpy<2.3 in /usr/local/lib/python3.11/dist-packages (from graphdatascience) (2.0.2)\n",
            "Requirement already satisfied: pandas<3.0,>=1.0 in /usr/local/lib/python3.11/dist-packages (from graphdatascience) (2.2.2)\n",
            "Requirement already satisfied: pyarrow<20.0,>=16.0 in /usr/local/lib/python3.11/dist-packages (from graphdatascience) (18.1.0)\n",
            "Requirement already satisfied: textdistance<5.0,>=4.0 in /usr/local/lib/python3.11/dist-packages (from graphdatascience) (4.6.3)\n",
            "Requirement already satisfied: tqdm<5.0,>=4.0 in /usr/local/lib/python3.11/dist-packages (from graphdatascience) (4.67.1)\n",
            "Requirement already satisfied: typing-extensions<5.0,>=4.0 in /usr/local/lib/python3.11/dist-packages (from graphdatascience) (4.13.2)\n",
            "Requirement already satisfied: requests in /usr/local/lib/python3.11/dist-packages (from graphdatascience) (2.32.3)\n",
            "Requirement already satisfied: tenacity>=9.0 in /usr/local/lib/python3.11/dist-packages (from graphdatascience) (9.1.2)\n",
            "Requirement already satisfied: pytz in /usr/local/lib/python3.11/dist-packages (from neo4j<6.0,>=4.4.12->graphdatascience) (2025.2)\n",
            "Requirement already satisfied: python-dateutil>=2.8.2 in /usr/local/lib/python3.11/dist-packages (from pandas<3.0,>=1.0->graphdatascience) (2.9.0.post0)\n",
            "Requirement already satisfied: tzdata>=2022.7 in /usr/local/lib/python3.11/dist-packages (from pandas<3.0,>=1.0->graphdatascience) (2025.2)\n",
            "Requirement already satisfied: charset-normalizer<4,>=2 in /usr/local/lib/python3.11/dist-packages (from requests->graphdatascience) (3.4.2)\n",
            "Requirement already satisfied: idna<4,>=2.5 in /usr/local/lib/python3.11/dist-packages (from requests->graphdatascience) (3.10)\n",
            "Requirement already satisfied: urllib3<3,>=1.21.1 in /usr/local/lib/python3.11/dist-packages (from requests->graphdatascience) (2.4.0)\n",
            "Requirement already satisfied: certifi>=2017.4.17 in /usr/local/lib/python3.11/dist-packages (from requests->graphdatascience) (2025.4.26)\n",
            "Requirement already satisfied: six>=1.5 in /usr/local/lib/python3.11/dist-packages (from python-dateutil>=2.8.2->pandas<3.0,>=1.0->graphdatascience) (1.17.0)\n"
          ]
        }
      ],
      "source": [
        "# Install necessary dependencies\n",
        "!pip install graphdatascience"
      ]
    },
    {
      "cell_type": "code",
      "source": [
        "!pip install neo4j-driver"
      ],
      "metadata": {
        "id": "j4VV2S5nfaEL",
        "outputId": "3153c57d-33f4-4c70-a782-54fe572c3a67",
        "colab": {
          "base_uri": "https://localhost:8080/",
          "height": 235
        }
      },
      "id": "j4VV2S5nfaEL",
      "execution_count": 7,
      "outputs": [
        {
          "output_type": "stream",
          "name": "stdout",
          "text": [
            "Collecting neo4j-driver\n",
            "  Downloading neo4j_driver-5.28.1-py3-none-any.whl.metadata (6.1 kB)\n",
            "Requirement already satisfied: pytz in /usr/local/lib/python3.11/dist-packages (from neo4j-driver) (2025.2)\n",
            "Downloading neo4j_driver-5.28.1-py3-none-any.whl (312 kB)\n",
            "\u001b[?25l   \u001b[90m━━━━━━━━━━━━━━━━━━━━━━━━━━━━━━━━━━━━━━━━\u001b[0m \u001b[32m0.0/312.5 kB\u001b[0m \u001b[31m?\u001b[0m eta \u001b[36m-:--:--\u001b[0m\r\u001b[2K   \u001b[90m━━━━━━━━━━━━━━━━━━━━━━━━━━━━━━━━━━━━━━━━\u001b[0m \u001b[32m312.5/312.5 kB\u001b[0m \u001b[31m17.5 MB/s\u001b[0m eta \u001b[36m0:00:00\u001b[0m\n",
            "\u001b[?25hInstalling collected packages: neo4j-driver\n",
            "Successfully installed neo4j-driver-5.28.1\n"
          ]
        },
        {
          "output_type": "display_data",
          "data": {
            "application/vnd.colab-display-data+json": {
              "pip_warning": {
                "packages": [
                  "neo4j"
                ]
              },
              "id": "0728d93454f54afa8425bc298998a2e1"
            }
          },
          "metadata": {}
        }
      ]
    },
    {
      "cell_type": "code",
      "source": [
        "from graphdatascience import GraphDataScience\n"
      ],
      "metadata": {
        "id": "txMAQGTgfjBA"
      },
      "id": "txMAQGTgfjBA",
      "execution_count": 1,
      "outputs": []
    },
    {
      "cell_type": "code",
      "execution_count": 3,
      "id": "44abe56c",
      "metadata": {
        "id": "44abe56c"
      },
      "outputs": [],
      "source": [
        "import os\n",
        "\n",
        "# Colocar as detalhes de conexão da base de dados criada no Neo4j\n",
        "from neo4j import GraphDatabase, basic_auth\n",
        "\n",
        "driver = GraphDatabase.driver(\n",
        "  \"bolt://3.210.204.128:7687\",\n",
        "  auth=basic_auth(\"neo4j\", \"mixtures-appearances-eye\"))\n",
        "\n",
        "gds = GraphDataScience(driver)\n",
        "\n"
      ]
    },
    {
      "cell_type": "code",
      "execution_count": 4,
      "id": "0dc5d368",
      "metadata": {
        "tags": [
          "verify-version"
        ],
        "id": "0dc5d368"
      },
      "outputs": [],
      "source": [
        "from graphdatascience import ServerVersion\n",
        "\n",
        "assert gds.server_version() >= ServerVersion(1, 8, 0)"
      ]
    },
    {
      "cell_type": "markdown",
      "id": "0878b3e7",
      "metadata": {
        "id": "0878b3e7"
      },
      "source": [
        "## Example graph creation\n",
        "\n",
        "We now create a graph of products and customers in the database. The `amount` relationship property represents the average weekly amount of money spent by a customer on a given product."
      ]
    },
    {
      "cell_type": "code",
      "execution_count": 5,
      "id": "1da893ee",
      "metadata": {
        "id": "1da893ee"
      },
      "outputs": [],
      "source": [
        "# The `run_cypher` method can be used to run arbitrary Cypher queries on the database.\n",
        "_ = gds.run_cypher(\n",
        "    \"\"\"\n",
        "        CREATE\n",
        "         (dan:Person {name: 'Dan'}),\n",
        "         (annie:Person {name: 'Annie'}),\n",
        "         (matt:Person {name: 'Matt'}),\n",
        "         (jeff:Person {name: 'Jeff'}),\n",
        "         (brie:Person {name: 'Brie'}),\n",
        "         (elsa:Person {name: 'Elsa'}),\n",
        "\n",
        "         (cookies:Product {name: 'Cookies'}),\n",
        "         (tomatoes:Product {name: 'Tomatoes'}),\n",
        "         (cucumber:Product {name: 'Cucumber'}),\n",
        "         (celery:Product {name: 'Celery'}),\n",
        "         (kale:Product {name: 'Kale'}),\n",
        "         (milk:Product {name: 'Milk'}),\n",
        "         (chocolate:Product {name: 'Chocolate'}),\n",
        "\n",
        "         (dan)-[:BUYS {amount: 1.2}]->(cookies),\n",
        "         (dan)-[:BUYS {amount: 3.2}]->(milk),\n",
        "         (dan)-[:BUYS {amount: 2.2}]->(chocolate),\n",
        "\n",
        "         (annie)-[:BUYS {amount: 1.2}]->(cucumber),\n",
        "         (annie)-[:BUYS {amount: 3.2}]->(milk),\n",
        "         (annie)-[:BUYS {amount: 3.2}]->(tomatoes),\n",
        "\n",
        "         (matt)-[:BUYS {amount: 3}]->(tomatoes),\n",
        "         (matt)-[:BUYS {amount: 2}]->(kale),\n",
        "         (matt)-[:BUYS {amount: 1}]->(cucumber),\n",
        "\n",
        "         (jeff)-[:BUYS {amount: 3}]->(cookies),\n",
        "         (jeff)-[:BUYS {amount: 2}]->(milk),\n",
        "\n",
        "         (brie)-[:BUYS {amount: 1}]->(tomatoes),\n",
        "         (brie)-[:BUYS {amount: 2}]->(milk),\n",
        "         (brie)-[:BUYS {amount: 2}]->(kale),\n",
        "         (brie)-[:BUYS {amount: 3}]->(cucumber),\n",
        "         (brie)-[:BUYS {amount: 0.3}]->(celery),\n",
        "\n",
        "         (elsa)-[:BUYS {amount: 3}]->(chocolate),\n",
        "         (elsa)-[:BUYS {amount: 3}]->(milk)\n",
        "    \"\"\"\n",
        ")"
      ]
    },
    {
      "cell_type": "markdown",
      "id": "ebe0e20c",
      "metadata": {
        "id": "ebe0e20c"
      },
      "source": [
        "## Projecting into GDS\n",
        "\n",
        "In order to be able to analyze the data in our database, we proceed to projecting it into memory where GDS can operate on it."
      ]
    },
    {
      "cell_type": "code",
      "execution_count": 6,
      "id": "a57cd9f6",
      "metadata": {
        "id": "a57cd9f6",
        "outputId": "669a2739-8ae7-4806-fe94-084ee1d71897",
        "colab": {
          "base_uri": "https://localhost:8080/"
        }
      },
      "outputs": [
        {
          "output_type": "stream",
          "name": "stdout",
          "text": [
            "Required memory for native loading: 545 KiB\n"
          ]
        }
      ],
      "source": [
        "# We define how we want to project our database into GDS\n",
        "node_projection = [\"Person\", \"Product\"]\n",
        "relationship_projection = {\"BUYS\": {\"orientation\": \"UNDIRECTED\", \"properties\": \"amount\"}}\n",
        "\n",
        "# Before actually going through with the projection, let's check how much memory is required\n",
        "result = gds.graph.project.estimate(node_projection, relationship_projection)\n",
        "\n",
        "print(f\"Required memory for native loading: {result['requiredMemory']}\")"
      ]
    },
    {
      "cell_type": "code",
      "execution_count": 7,
      "id": "35c72bd4",
      "metadata": {
        "id": "35c72bd4",
        "outputId": "95c10106-e583-4ac5-b42a-57278cff9ac8",
        "colab": {
          "base_uri": "https://localhost:8080/"
        }
      },
      "outputs": [
        {
          "output_type": "stream",
          "name": "stdout",
          "text": [
            "The projection took 1465 ms\n",
            "Graph 'purchases' node count: 13\n",
            "Graph 'purchases' node labels: ['Product', 'Person']\n"
          ]
        }
      ],
      "source": [
        "# For this small graph memory requirement is low. Let us go through with the projection\n",
        "G, result = gds.graph.project(\"purchases\", node_projection, relationship_projection)\n",
        "\n",
        "print(f\"The projection took {result['projectMillis']} ms\")\n",
        "\n",
        "# We can use convenience methods on `G` to check if the projection looks correct\n",
        "print(f\"Graph '{G.name()}' node count: {G.node_count()}\")\n",
        "print(f\"Graph '{G.name()}' node labels: {G.node_labels()}\")"
      ]
    },
    {
      "cell_type": "markdown",
      "id": "f734edb7",
      "metadata": {
        "id": "f734edb7"
      },
      "source": [
        "## Creating FastRP node embeddings\n",
        "\n",
        "Next we use the [FastRP algorithm](https://neo4j.com/docs/graph-data-science/current/machine-learning/node-embeddings/fastrp/) to generate node embeddings that capture topological information from the graph. We choose to work with `embeddingDimension` set to 4 which is sufficient since our example graph is very small. The `iterationWeights` are chosen empirically to yield sensible results. Please see [the syntax section of the FastRP documentation](https://neo4j.com/docs/graph-data-science/current/machine-learning/node-embeddings/fastrp/#algorithms-embeddings-fastrp-syntax) for more information on these parameters.\n",
        "\n",
        "Since we want to use the embeddings as input when we run kNN later we use FastRP’s mutate mode."
      ]
    },
    {
      "cell_type": "code",
      "execution_count": 8,
      "id": "f3e6916f",
      "metadata": {
        "id": "f3e6916f",
        "outputId": "cc739bba-e5aa-4fa3-995e-514d55a8f6ce",
        "colab": {
          "base_uri": "https://localhost:8080/"
        }
      },
      "outputs": [
        {
          "output_type": "stream",
          "name": "stdout",
          "text": [
            "Required memory for running FastRP: 2160 Bytes\n"
          ]
        }
      ],
      "source": [
        "# We can also estimate memory of running algorithms like FastRP, so let's do that first\n",
        "result = gds.fastRP.mutate.estimate(\n",
        "    G,\n",
        "    mutateProperty=\"embedding\",\n",
        "    randomSeed=42,\n",
        "    embeddingDimension=4,\n",
        "    relationshipWeightProperty=\"amount\",\n",
        "    iterationWeights=[0.8, 1, 1, 1],\n",
        ")\n",
        "\n",
        "print(f\"Required memory for running FastRP: {result['requiredMemory']}\")"
      ]
    },
    {
      "cell_type": "code",
      "execution_count": 9,
      "id": "8c2a3932",
      "metadata": {
        "id": "8c2a3932",
        "outputId": "3e029bdb-2f02-46b4-88cf-0d2a3dd98d3b",
        "colab": {
          "base_uri": "https://localhost:8080/"
        }
      },
      "outputs": [
        {
          "output_type": "stream",
          "name": "stdout",
          "text": [
            "Number of embedding vectors produced: 13\n"
          ]
        }
      ],
      "source": [
        "# Now let's run FastRP and mutate our projected graph 'purchases' with the results\n",
        "result = gds.fastRP.mutate(\n",
        "    G,\n",
        "    mutateProperty=\"embedding\",\n",
        "    randomSeed=42,\n",
        "    embeddingDimension=4,\n",
        "    relationshipWeightProperty=\"amount\",\n",
        "    iterationWeights=[0.8, 1, 1, 1],\n",
        ")\n",
        "\n",
        "# Let's make sure we got an embedding for each node\n",
        "print(f\"Number of embedding vectors produced: {result['nodePropertiesWritten']}\")"
      ]
    },
    {
      "cell_type": "markdown",
      "id": "1213e261",
      "metadata": {
        "id": "1213e261"
      },
      "source": [
        "## Similarities with kNN\n",
        "\n",
        "Now we can run [kNN](https://neo4j.com/docs/graph-data-science/current/algorithms/knn/) to identify similar nodes by using the node embeddings that we generated with FastRP as `nodeProperties`. Since we are working with a small graph, we can set `sampleRate` to 1 and `deltaThreshold` to 0 without having to worry about long computation times. The `concurrency` parameter is set to 1 (along with the fixed `randomSeed`) in order to get a deterministic result. Please see [the syntax section of the kNN documentation](https://neo4j.com/docs/graph-data-science/current/algorithms/knn/#algorithms-knn-syntax) for more information on these parameters.\n",
        "\n",
        "Note that we will use the algorithm’s write mode to write the properties and relationships back to our database, so that we can analyze them later using Cypher."
      ]
    },
    {
      "cell_type": "code",
      "execution_count": 10,
      "id": "9b132f95",
      "metadata": {
        "id": "9b132f95",
        "outputId": "79e67060-2977-4c0d-c2bb-dd223d9ae906",
        "colab": {
          "base_uri": "https://localhost:8080/"
        }
      },
      "outputs": [
        {
          "output_type": "stream",
          "name": "stdout",
          "text": [
            "Relationships produced: 26\n",
            "Nodes compared: 13\n",
            "Mean similarity: 0.929229002732497\n"
          ]
        }
      ],
      "source": [
        "# Run kNN and write back to db (we skip memory estimation this time...)\n",
        "result = gds.knn.write(\n",
        "    G,\n",
        "    topK=2,\n",
        "    nodeProperties=[\"embedding\"],\n",
        "    randomSeed=42,\n",
        "    concurrency=1,\n",
        "    sampleRate=1.0,\n",
        "    deltaThreshold=0.0,\n",
        "    writeRelationshipType=\"SIMILAR\",\n",
        "    writeProperty=\"score\",\n",
        ")\n",
        "\n",
        "print(f\"Relationships produced: {result['relationshipsWritten']}\")\n",
        "print(f\"Nodes compared: {result['nodesCompared']}\")\n",
        "print(f\"Mean similarity: {result['similarityDistribution']['mean']}\")"
      ]
    },
    {
      "cell_type": "markdown",
      "id": "f2bed240",
      "metadata": {
        "id": "f2bed240"
      },
      "source": [
        "As we can see the mean similarity between nodes is quite high. This is due to the fact that we have a small example where there are no long paths between nodes leading to many similar FastRP node embeddings."
      ]
    },
    {
      "cell_type": "markdown",
      "id": "ff4175c9",
      "metadata": {
        "id": "ff4175c9"
      },
      "source": [
        "## Exploring the results\n",
        "\n",
        "Let us now inspect the results of our kNN call by using Cypher. We can use the `SIMILARITY` relationship type to filter out the relationships we are interested in. And since we just care about similarities between people for our product recommendation engine, we make sure to only match nodes with the `Person` label.\n",
        "\n",
        "Please see [the Cypher manual](https://neo4j.com/docs/cypher-manual/current/) for documentation on how to use Cypher."
      ]
    },
    {
      "cell_type": "code",
      "execution_count": 11,
      "id": "ebf3e425",
      "metadata": {
        "id": "ebf3e425",
        "outputId": "c8fcb226-5810-41d7-96c3-b8cd60d8e045",
        "colab": {
          "base_uri": "https://localhost:8080/",
          "height": 206
        }
      },
      "outputs": [
        {
          "output_type": "execute_result",
          "data": {
            "text/plain": [
              "  person1 person2  similarity\n",
              "0     Dan    Elsa    0.986683\n",
              "1    Elsa     Dan    0.986683\n",
              "2    Matt    Brie    0.974018\n",
              "3   Annie    Matt    0.972405\n",
              "4    Jeff   Annie    0.866778"
            ],
            "text/html": [
              "\n",
              "  <div id=\"df-3b985da3-ff33-4e76-a3b8-638be3c7b5d5\" class=\"colab-df-container\">\n",
              "    <div>\n",
              "<style scoped>\n",
              "    .dataframe tbody tr th:only-of-type {\n",
              "        vertical-align: middle;\n",
              "    }\n",
              "\n",
              "    .dataframe tbody tr th {\n",
              "        vertical-align: top;\n",
              "    }\n",
              "\n",
              "    .dataframe thead th {\n",
              "        text-align: right;\n",
              "    }\n",
              "</style>\n",
              "<table border=\"1\" class=\"dataframe\">\n",
              "  <thead>\n",
              "    <tr style=\"text-align: right;\">\n",
              "      <th></th>\n",
              "      <th>person1</th>\n",
              "      <th>person2</th>\n",
              "      <th>similarity</th>\n",
              "    </tr>\n",
              "  </thead>\n",
              "  <tbody>\n",
              "    <tr>\n",
              "      <th>0</th>\n",
              "      <td>Dan</td>\n",
              "      <td>Elsa</td>\n",
              "      <td>0.986683</td>\n",
              "    </tr>\n",
              "    <tr>\n",
              "      <th>1</th>\n",
              "      <td>Elsa</td>\n",
              "      <td>Dan</td>\n",
              "      <td>0.986683</td>\n",
              "    </tr>\n",
              "    <tr>\n",
              "      <th>2</th>\n",
              "      <td>Matt</td>\n",
              "      <td>Brie</td>\n",
              "      <td>0.974018</td>\n",
              "    </tr>\n",
              "    <tr>\n",
              "      <th>3</th>\n",
              "      <td>Annie</td>\n",
              "      <td>Matt</td>\n",
              "      <td>0.972405</td>\n",
              "    </tr>\n",
              "    <tr>\n",
              "      <th>4</th>\n",
              "      <td>Jeff</td>\n",
              "      <td>Annie</td>\n",
              "      <td>0.866778</td>\n",
              "    </tr>\n",
              "  </tbody>\n",
              "</table>\n",
              "</div>\n",
              "    <div class=\"colab-df-buttons\">\n",
              "\n",
              "  <div class=\"colab-df-container\">\n",
              "    <button class=\"colab-df-convert\" onclick=\"convertToInteractive('df-3b985da3-ff33-4e76-a3b8-638be3c7b5d5')\"\n",
              "            title=\"Convert this dataframe to an interactive table.\"\n",
              "            style=\"display:none;\">\n",
              "\n",
              "  <svg xmlns=\"http://www.w3.org/2000/svg\" height=\"24px\" viewBox=\"0 -960 960 960\">\n",
              "    <path d=\"M120-120v-720h720v720H120Zm60-500h600v-160H180v160Zm220 220h160v-160H400v160Zm0 220h160v-160H400v160ZM180-400h160v-160H180v160Zm440 0h160v-160H620v160ZM180-180h160v-160H180v160Zm440 0h160v-160H620v160Z\"/>\n",
              "  </svg>\n",
              "    </button>\n",
              "\n",
              "  <style>\n",
              "    .colab-df-container {\n",
              "      display:flex;\n",
              "      gap: 12px;\n",
              "    }\n",
              "\n",
              "    .colab-df-convert {\n",
              "      background-color: #E8F0FE;\n",
              "      border: none;\n",
              "      border-radius: 50%;\n",
              "      cursor: pointer;\n",
              "      display: none;\n",
              "      fill: #1967D2;\n",
              "      height: 32px;\n",
              "      padding: 0 0 0 0;\n",
              "      width: 32px;\n",
              "    }\n",
              "\n",
              "    .colab-df-convert:hover {\n",
              "      background-color: #E2EBFA;\n",
              "      box-shadow: 0px 1px 2px rgba(60, 64, 67, 0.3), 0px 1px 3px 1px rgba(60, 64, 67, 0.15);\n",
              "      fill: #174EA6;\n",
              "    }\n",
              "\n",
              "    .colab-df-buttons div {\n",
              "      margin-bottom: 4px;\n",
              "    }\n",
              "\n",
              "    [theme=dark] .colab-df-convert {\n",
              "      background-color: #3B4455;\n",
              "      fill: #D2E3FC;\n",
              "    }\n",
              "\n",
              "    [theme=dark] .colab-df-convert:hover {\n",
              "      background-color: #434B5C;\n",
              "      box-shadow: 0px 1px 3px 1px rgba(0, 0, 0, 0.15);\n",
              "      filter: drop-shadow(0px 1px 2px rgba(0, 0, 0, 0.3));\n",
              "      fill: #FFFFFF;\n",
              "    }\n",
              "  </style>\n",
              "\n",
              "    <script>\n",
              "      const buttonEl =\n",
              "        document.querySelector('#df-3b985da3-ff33-4e76-a3b8-638be3c7b5d5 button.colab-df-convert');\n",
              "      buttonEl.style.display =\n",
              "        google.colab.kernel.accessAllowed ? 'block' : 'none';\n",
              "\n",
              "      async function convertToInteractive(key) {\n",
              "        const element = document.querySelector('#df-3b985da3-ff33-4e76-a3b8-638be3c7b5d5');\n",
              "        const dataTable =\n",
              "          await google.colab.kernel.invokeFunction('convertToInteractive',\n",
              "                                                    [key], {});\n",
              "        if (!dataTable) return;\n",
              "\n",
              "        const docLinkHtml = 'Like what you see? Visit the ' +\n",
              "          '<a target=\"_blank\" href=https://colab.research.google.com/notebooks/data_table.ipynb>data table notebook</a>'\n",
              "          + ' to learn more about interactive tables.';\n",
              "        element.innerHTML = '';\n",
              "        dataTable['output_type'] = 'display_data';\n",
              "        await google.colab.output.renderOutput(dataTable, element);\n",
              "        const docLink = document.createElement('div');\n",
              "        docLink.innerHTML = docLinkHtml;\n",
              "        element.appendChild(docLink);\n",
              "      }\n",
              "    </script>\n",
              "  </div>\n",
              "\n",
              "\n",
              "    <div id=\"df-f6ed731a-bafe-4449-b52a-4a6aaf2c263c\">\n",
              "      <button class=\"colab-df-quickchart\" onclick=\"quickchart('df-f6ed731a-bafe-4449-b52a-4a6aaf2c263c')\"\n",
              "                title=\"Suggest charts\"\n",
              "                style=\"display:none;\">\n",
              "\n",
              "<svg xmlns=\"http://www.w3.org/2000/svg\" height=\"24px\"viewBox=\"0 0 24 24\"\n",
              "     width=\"24px\">\n",
              "    <g>\n",
              "        <path d=\"M19 3H5c-1.1 0-2 .9-2 2v14c0 1.1.9 2 2 2h14c1.1 0 2-.9 2-2V5c0-1.1-.9-2-2-2zM9 17H7v-7h2v7zm4 0h-2V7h2v10zm4 0h-2v-4h2v4z\"/>\n",
              "    </g>\n",
              "</svg>\n",
              "      </button>\n",
              "\n",
              "<style>\n",
              "  .colab-df-quickchart {\n",
              "      --bg-color: #E8F0FE;\n",
              "      --fill-color: #1967D2;\n",
              "      --hover-bg-color: #E2EBFA;\n",
              "      --hover-fill-color: #174EA6;\n",
              "      --disabled-fill-color: #AAA;\n",
              "      --disabled-bg-color: #DDD;\n",
              "  }\n",
              "\n",
              "  [theme=dark] .colab-df-quickchart {\n",
              "      --bg-color: #3B4455;\n",
              "      --fill-color: #D2E3FC;\n",
              "      --hover-bg-color: #434B5C;\n",
              "      --hover-fill-color: #FFFFFF;\n",
              "      --disabled-bg-color: #3B4455;\n",
              "      --disabled-fill-color: #666;\n",
              "  }\n",
              "\n",
              "  .colab-df-quickchart {\n",
              "    background-color: var(--bg-color);\n",
              "    border: none;\n",
              "    border-radius: 50%;\n",
              "    cursor: pointer;\n",
              "    display: none;\n",
              "    fill: var(--fill-color);\n",
              "    height: 32px;\n",
              "    padding: 0;\n",
              "    width: 32px;\n",
              "  }\n",
              "\n",
              "  .colab-df-quickchart:hover {\n",
              "    background-color: var(--hover-bg-color);\n",
              "    box-shadow: 0 1px 2px rgba(60, 64, 67, 0.3), 0 1px 3px 1px rgba(60, 64, 67, 0.15);\n",
              "    fill: var(--button-hover-fill-color);\n",
              "  }\n",
              "\n",
              "  .colab-df-quickchart-complete:disabled,\n",
              "  .colab-df-quickchart-complete:disabled:hover {\n",
              "    background-color: var(--disabled-bg-color);\n",
              "    fill: var(--disabled-fill-color);\n",
              "    box-shadow: none;\n",
              "  }\n",
              "\n",
              "  .colab-df-spinner {\n",
              "    border: 2px solid var(--fill-color);\n",
              "    border-color: transparent;\n",
              "    border-bottom-color: var(--fill-color);\n",
              "    animation:\n",
              "      spin 1s steps(1) infinite;\n",
              "  }\n",
              "\n",
              "  @keyframes spin {\n",
              "    0% {\n",
              "      border-color: transparent;\n",
              "      border-bottom-color: var(--fill-color);\n",
              "      border-left-color: var(--fill-color);\n",
              "    }\n",
              "    20% {\n",
              "      border-color: transparent;\n",
              "      border-left-color: var(--fill-color);\n",
              "      border-top-color: var(--fill-color);\n",
              "    }\n",
              "    30% {\n",
              "      border-color: transparent;\n",
              "      border-left-color: var(--fill-color);\n",
              "      border-top-color: var(--fill-color);\n",
              "      border-right-color: var(--fill-color);\n",
              "    }\n",
              "    40% {\n",
              "      border-color: transparent;\n",
              "      border-right-color: var(--fill-color);\n",
              "      border-top-color: var(--fill-color);\n",
              "    }\n",
              "    60% {\n",
              "      border-color: transparent;\n",
              "      border-right-color: var(--fill-color);\n",
              "    }\n",
              "    80% {\n",
              "      border-color: transparent;\n",
              "      border-right-color: var(--fill-color);\n",
              "      border-bottom-color: var(--fill-color);\n",
              "    }\n",
              "    90% {\n",
              "      border-color: transparent;\n",
              "      border-bottom-color: var(--fill-color);\n",
              "    }\n",
              "  }\n",
              "</style>\n",
              "\n",
              "      <script>\n",
              "        async function quickchart(key) {\n",
              "          const quickchartButtonEl =\n",
              "            document.querySelector('#' + key + ' button');\n",
              "          quickchartButtonEl.disabled = true;  // To prevent multiple clicks.\n",
              "          quickchartButtonEl.classList.add('colab-df-spinner');\n",
              "          try {\n",
              "            const charts = await google.colab.kernel.invokeFunction(\n",
              "                'suggestCharts', [key], {});\n",
              "          } catch (error) {\n",
              "            console.error('Error during call to suggestCharts:', error);\n",
              "          }\n",
              "          quickchartButtonEl.classList.remove('colab-df-spinner');\n",
              "          quickchartButtonEl.classList.add('colab-df-quickchart-complete');\n",
              "        }\n",
              "        (() => {\n",
              "          let quickchartButtonEl =\n",
              "            document.querySelector('#df-f6ed731a-bafe-4449-b52a-4a6aaf2c263c button');\n",
              "          quickchartButtonEl.style.display =\n",
              "            google.colab.kernel.accessAllowed ? 'block' : 'none';\n",
              "        })();\n",
              "      </script>\n",
              "    </div>\n",
              "\n",
              "    </div>\n",
              "  </div>\n"
            ],
            "application/vnd.google.colaboratory.intrinsic+json": {
              "type": "dataframe",
              "summary": "{\n  \"name\": \")\",\n  \"rows\": 5,\n  \"fields\": [\n    {\n      \"column\": \"person1\",\n      \"properties\": {\n        \"dtype\": \"string\",\n        \"num_unique_values\": 5,\n        \"samples\": [\n          \"Elsa\",\n          \"Jeff\",\n          \"Matt\"\n        ],\n        \"semantic_type\": \"\",\n        \"description\": \"\"\n      }\n    },\n    {\n      \"column\": \"person2\",\n      \"properties\": {\n        \"dtype\": \"string\",\n        \"num_unique_values\": 5,\n        \"samples\": [\n          \"Dan\",\n          \"Annie\",\n          \"Brie\"\n        ],\n        \"semantic_type\": \"\",\n        \"description\": \"\"\n      }\n    },\n    {\n      \"column\": \"similarity\",\n      \"properties\": {\n        \"dtype\": \"number\",\n        \"std\": 0.05106015924326089,\n        \"min\": 0.8667784333229065,\n        \"max\": 0.9866832494735718,\n        \"num_unique_values\": 4,\n        \"samples\": [\n          0.9740184545516968,\n          0.8667784333229065,\n          0.9866832494735718\n        ],\n        \"semantic_type\": \"\",\n        \"description\": \"\"\n      }\n    }\n  ]\n}"
            }
          },
          "metadata": {},
          "execution_count": 11
        }
      ],
      "source": [
        "gds.run_cypher(\n",
        "    \"\"\"\n",
        "        MATCH (p1:Person)-[r:SIMILAR]->(p2:Person)\n",
        "        RETURN p1.name AS person1, p2.name AS person2, r.score AS similarity\n",
        "        ORDER BY similarity DESCENDING, person1, person2\n",
        "    \"\"\"\n",
        ")"
      ]
    },
    {
      "cell_type": "markdown",
      "id": "086f561b",
      "metadata": {
        "id": "086f561b"
      },
      "source": [
        "Our kNN results indicate among other things that the `Person` nodes named \"Annie\" and \"Matt\" are very similar. Looking at the `BUYS` relationships for these two nodes we can see that such a conclusion makes sense. They both buy three products, two of which are the same (`Product` nodes named \"Cucumber\" and \"Tomatoes\") for both people and with similar amounts. We can therefore have high confidence in our approach."
      ]
    },
    {
      "cell_type": "markdown",
      "id": "752bf299",
      "metadata": {
        "id": "752bf299"
      },
      "source": [
        "## Making recommendations\n",
        "\n",
        "Using the information we derived that the `Person` nodes named \"Annie\" and \"Matt\" are similar, we can make product recommendations for each of them. Since they are similar, we can assume that products purchased by only one of the people may be of interest to buy also for the other person not already buying the product. By this principle we can derive product recommendations for the `Person` named \"Matt\" using a simple Cypher query."
      ]
    },
    {
      "cell_type": "code",
      "execution_count": 12,
      "id": "cb05d14f",
      "metadata": {
        "id": "cb05d14f",
        "outputId": "e84f8934-a811-45f5-b98f-6fdb008e5ce5",
        "colab": {
          "base_uri": "https://localhost:8080/",
          "height": 81
        }
      },
      "outputs": [
        {
          "output_type": "execute_result",
          "data": {
            "text/plain": [
              "  recommendation\n",
              "0           Kale"
            ],
            "text/html": [
              "\n",
              "  <div id=\"df-2f3e5ec0-f213-4c21-a009-412b89ef0335\" class=\"colab-df-container\">\n",
              "    <div>\n",
              "<style scoped>\n",
              "    .dataframe tbody tr th:only-of-type {\n",
              "        vertical-align: middle;\n",
              "    }\n",
              "\n",
              "    .dataframe tbody tr th {\n",
              "        vertical-align: top;\n",
              "    }\n",
              "\n",
              "    .dataframe thead th {\n",
              "        text-align: right;\n",
              "    }\n",
              "</style>\n",
              "<table border=\"1\" class=\"dataframe\">\n",
              "  <thead>\n",
              "    <tr style=\"text-align: right;\">\n",
              "      <th></th>\n",
              "      <th>recommendation</th>\n",
              "    </tr>\n",
              "  </thead>\n",
              "  <tbody>\n",
              "    <tr>\n",
              "      <th>0</th>\n",
              "      <td>Kale</td>\n",
              "    </tr>\n",
              "  </tbody>\n",
              "</table>\n",
              "</div>\n",
              "    <div class=\"colab-df-buttons\">\n",
              "\n",
              "  <div class=\"colab-df-container\">\n",
              "    <button class=\"colab-df-convert\" onclick=\"convertToInteractive('df-2f3e5ec0-f213-4c21-a009-412b89ef0335')\"\n",
              "            title=\"Convert this dataframe to an interactive table.\"\n",
              "            style=\"display:none;\">\n",
              "\n",
              "  <svg xmlns=\"http://www.w3.org/2000/svg\" height=\"24px\" viewBox=\"0 -960 960 960\">\n",
              "    <path d=\"M120-120v-720h720v720H120Zm60-500h600v-160H180v160Zm220 220h160v-160H400v160Zm0 220h160v-160H400v160ZM180-400h160v-160H180v160Zm440 0h160v-160H620v160ZM180-180h160v-160H180v160Zm440 0h160v-160H620v160Z\"/>\n",
              "  </svg>\n",
              "    </button>\n",
              "\n",
              "  <style>\n",
              "    .colab-df-container {\n",
              "      display:flex;\n",
              "      gap: 12px;\n",
              "    }\n",
              "\n",
              "    .colab-df-convert {\n",
              "      background-color: #E8F0FE;\n",
              "      border: none;\n",
              "      border-radius: 50%;\n",
              "      cursor: pointer;\n",
              "      display: none;\n",
              "      fill: #1967D2;\n",
              "      height: 32px;\n",
              "      padding: 0 0 0 0;\n",
              "      width: 32px;\n",
              "    }\n",
              "\n",
              "    .colab-df-convert:hover {\n",
              "      background-color: #E2EBFA;\n",
              "      box-shadow: 0px 1px 2px rgba(60, 64, 67, 0.3), 0px 1px 3px 1px rgba(60, 64, 67, 0.15);\n",
              "      fill: #174EA6;\n",
              "    }\n",
              "\n",
              "    .colab-df-buttons div {\n",
              "      margin-bottom: 4px;\n",
              "    }\n",
              "\n",
              "    [theme=dark] .colab-df-convert {\n",
              "      background-color: #3B4455;\n",
              "      fill: #D2E3FC;\n",
              "    }\n",
              "\n",
              "    [theme=dark] .colab-df-convert:hover {\n",
              "      background-color: #434B5C;\n",
              "      box-shadow: 0px 1px 3px 1px rgba(0, 0, 0, 0.15);\n",
              "      filter: drop-shadow(0px 1px 2px rgba(0, 0, 0, 0.3));\n",
              "      fill: #FFFFFF;\n",
              "    }\n",
              "  </style>\n",
              "\n",
              "    <script>\n",
              "      const buttonEl =\n",
              "        document.querySelector('#df-2f3e5ec0-f213-4c21-a009-412b89ef0335 button.colab-df-convert');\n",
              "      buttonEl.style.display =\n",
              "        google.colab.kernel.accessAllowed ? 'block' : 'none';\n",
              "\n",
              "      async function convertToInteractive(key) {\n",
              "        const element = document.querySelector('#df-2f3e5ec0-f213-4c21-a009-412b89ef0335');\n",
              "        const dataTable =\n",
              "          await google.colab.kernel.invokeFunction('convertToInteractive',\n",
              "                                                    [key], {});\n",
              "        if (!dataTable) return;\n",
              "\n",
              "        const docLinkHtml = 'Like what you see? Visit the ' +\n",
              "          '<a target=\"_blank\" href=https://colab.research.google.com/notebooks/data_table.ipynb>data table notebook</a>'\n",
              "          + ' to learn more about interactive tables.';\n",
              "        element.innerHTML = '';\n",
              "        dataTable['output_type'] = 'display_data';\n",
              "        await google.colab.output.renderOutput(dataTable, element);\n",
              "        const docLink = document.createElement('div');\n",
              "        docLink.innerHTML = docLinkHtml;\n",
              "        element.appendChild(docLink);\n",
              "      }\n",
              "    </script>\n",
              "  </div>\n",
              "\n",
              "\n",
              "    </div>\n",
              "  </div>\n"
            ],
            "application/vnd.google.colaboratory.intrinsic+json": {
              "type": "dataframe",
              "summary": "{\n  \"name\": \")\",\n  \"rows\": 1,\n  \"fields\": [\n    {\n      \"column\": \"recommendation\",\n      \"properties\": {\n        \"dtype\": \"string\",\n        \"num_unique_values\": 1,\n        \"samples\": [\n          \"Kale\"\n        ],\n        \"semantic_type\": \"\",\n        \"description\": \"\"\n      }\n    }\n  ]\n}"
            }
          },
          "metadata": {},
          "execution_count": 12
        }
      ],
      "source": [
        "gds.run_cypher(\n",
        "    \"\"\"\n",
        "        MATCH (:Person {name: \"Annie\"})-[:BUYS]->(p1:Product)\n",
        "        WITH collect(p1) as products\n",
        "        MATCH (:Person {name: \"Matt\"})-[:BUYS]->(p2:Product)\n",
        "        WHERE not p2 in products\n",
        "        RETURN p2.name as recommendation\n",
        "    \"\"\"\n",
        ")"
      ]
    },
    {
      "cell_type": "markdown",
      "id": "f732dc04",
      "metadata": {
        "id": "f732dc04"
      },
      "source": [
        "Indeed, \"Kale\" is the one product that the Person named \"Annie\" buys that is also not purchased by the Person named \"Matt\"."
      ]
    },
    {
      "cell_type": "markdown",
      "id": "7b43798c",
      "metadata": {
        "id": "7b43798c"
      },
      "source": [
        "## Cleaning up\n",
        "\n",
        "Before finishing we can clean up the example data from both the GDS in-memory state and the database."
      ]
    },
    {
      "cell_type": "code",
      "execution_count": null,
      "id": "fe3961e0",
      "metadata": {
        "id": "fe3961e0"
      },
      "outputs": [],
      "source": [
        "# Remove our projection from the GDS graph catalog\n",
        "G.drop()\n",
        "\n",
        "# Remove all the example data from the database\n",
        "_ = gds.run_cypher(\"MATCH (n) DETACH DELETE n\")"
      ]
    },
    {
      "cell_type": "markdown",
      "id": "d59cb732",
      "metadata": {
        "id": "d59cb732"
      },
      "source": [
        "## Conclusion\n",
        "\n",
        "Using two GDS algorithms and some basic Cypher we were easily able to derive some sensible product recommendations for a customer in our small example.\n",
        "\n",
        "To make sure to get similarities to other customers for every customer in our graph with kNN, we could play around with increasing the `topK` parameter."
      ]
    }
  ],
  "metadata": {
    "language_info": {
      "name": "python"
    },
    "colab": {
      "provenance": []
    },
    "kernelspec": {
      "name": "python3",
      "display_name": "Python 3"
    }
  },
  "nbformat": 4,
  "nbformat_minor": 5
}